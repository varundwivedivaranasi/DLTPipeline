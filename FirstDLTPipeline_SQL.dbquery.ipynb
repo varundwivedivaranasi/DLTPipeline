{
 "cells": [
  {
   "cell_type": "code",
   "execution_count": 0,
   "metadata": {
    "application/vnd.databricks.v1+cell": {
     "cellMetadata": {
      "byteLimit": 10485760,
      "rowLimit": 1000
     },
     "inputWidgets": {},
     "nuid": "fa4de001-7fdb-46e3-8e98-647198861540",
     "showTitle": false,
     "tableResultSettingsMap": {},
     "title": ""
    }
   },
   "outputs": [],
   "source": [
    "create table orders (\n",
    "  order_id int,\n",
    "  order_date date,\n",
    "  customer_id int,\n",
    "  order_status string\n",
    ");\n",
    "\n",
    "insert into orders values\n",
    "(1, '2020-01-01', 1, 'placed'),\n",
    "(2, '2020-01-02', 2, 'processing'),\n",
    "(3, '2020-01-03', 3, 'shipped'),\n",
    "(4, '2020-01-04', 4, 'delivered'),\n",
    "(5, '2020-01-05', 5, 'cancelled');\n",
    "\n",
    "insert into orders values\n",
    "(6, '2020-01-06', 6, 'placed'),\n",
    "(7, '2020-01-07', 7, 'processing');"
   ]
  }
 ],
 "metadata": {
  "application/vnd.databricks.v1+notebook": {
   "computePreferences": null,
   "dashboards": [],
   "environmentMetadata": null,
   "inputWidgetPreferences": null,
   "language": "sql",
   "notebookMetadata": {
    "sqlQueryOptions": {
     "applyAutoLimit": true,
     "catalog": "workspace",
     "schema": "myschema"
    }
   },
   "notebookName": "FirstDLTPipeline_SQL.dbquery.ipynb",
   "widgets": {}
  },
  "language_info": {
   "name": "sql"
  }
 },
 "nbformat": 4,
 "nbformat_minor": 0
}
