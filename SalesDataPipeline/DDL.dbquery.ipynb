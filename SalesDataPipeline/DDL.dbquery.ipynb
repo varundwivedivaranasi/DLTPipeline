{
 "cells": [
  {
   "cell_type": "code",
   "execution_count": 0,
   "metadata": {
    "application/vnd.databricks.v1+cell": {
     "cellMetadata": {
      "byteLimit": 10485760,
      "rowLimit": 1000
     },
     "inputWidgets": {},
     "nuid": "c0bd6fe2-a3a3-407a-b165-449d19d90eb0",
     "showTitle": false,
     "tableResultSettingsMap": {},
     "title": ""
    }
   },
   "outputs": [],
   "source": [
    "-- CREATE TABLE sales_east (\n",
    "--     sales_id INT PRIMARY KEY,\n",
    "--     customer_id INT,\n",
    "--     product_id INT,\n",
    "--     quantity INT,\n",
    "--     amount DECIMAL(10,2),\n",
    "--     sale_timestamp TIMESTAMP\n",
    "-- );\n",
    "\n",
    "-- INSERT INTO sales_east VALUES\n",
    "-- (1, 101, 201, 2, 200.00, '2025-08-01 10:00:00'),\n",
    "-- (2, 102, 202, 1, 120.00, '2025-08-01 10:05:00'),\n",
    "-- (3, 103, 203, 5, 500.00, '2025-08-01 10:10:00'),\n",
    "-- (4, 104, 204, 3, 330.00, '2025-08-01 10:15:00'),\n",
    "-- (5, 105, 205, 4, 440.00, '2025-08-01 10:20:00');\n",
    "\n",
    "-- CREATE TABLE sales_west (\n",
    "--     sales_id INT PRIMARY KEY,\n",
    "--     customer_id INT,\n",
    "--     product_id INT,\n",
    "--     quantity INT,\n",
    "--     amount DECIMAL(10,2),\n",
    "--     sale_timestamp TIMESTAMP\n",
    "-- );\n",
    "\n",
    "-- INSERT INTO sales_west VALUES\n",
    "-- (8, 107, 207, 1, 150.00, '2025-08-01 11:00:00'),\n",
    "-- (9, 108, 208, 2, 260.00, '2025-08-01 11:05:00'),\n",
    "-- (10, 109, 209, 3, 390.00, '2025-08-01 11:10:00'),\n",
    "-- (11, 110, 210, 1, 130.00, '2025-08-01 11:15:00'),\n",
    "-- (12, 111, 211, 4, 560.00, '2025-08-01 11:20:00');\n",
    "\n",
    "-- CREATE TABLE products (\n",
    "--     product_id INT PRIMARY KEY,\n",
    "--     product_name VARCHAR(100),\n",
    "--     category VARCHAR(50),\n",
    "--     price DECIMAL(10,2),\n",
    "--     last_updated TIMESTAMP\n",
    "-- );\n",
    "\n",
    "-- INSERT INTO products VALUES\n",
    "-- (201, 'Laptop', 'Electronics', 1000.00, '2025-07-31 12:00:00'),\n",
    "-- (202, 'Phone', 'Electronics', 120.00, '2025-07-31 12:05:00'),\n",
    "-- (203, 'Monitor', 'Electronics', 100.00, '2025-07-31 12:10:00'),\n",
    "-- (204, 'Chair', 'Furniture', 110.00, '2025-07-31 12:15:00'),\n",
    "-- (205, 'Desk', 'Furniture', 150.00, '2025-07-31 12:20:00'),\n",
    "-- (206, 'Mouse', 'Electronics', 50.00, '2025-07-31 12:25:00'),\n",
    "-- (207, 'Keyboard', 'Electronics', 60.00, '2025-07-31 12:30:00'),\n",
    "-- (208, 'Lamp', 'Furniture', 130.00, '2025-07-31 12:35:00'),\n",
    "-- (209, 'Router', 'Electronics', 130.00, '2025-07-31 12:40:00'),\n",
    "-- (210, 'Table', 'Furniture', 130.00, '2025-07-31 12:45:00'),\n",
    "-- (211, 'Notebook', 'Stationery', 140.00, '2025-07-31 12:50:00'),\n",
    "-- (212, 'Pen', 'Stationery', 150.00, '2025-07-31 12:55:00');\n",
    "\n",
    "-- CREATE TABLE customers (\n",
    "--     customer_id INT PRIMARY KEY,\n",
    "--     customer_name VARCHAR(100),\n",
    "--     region VARCHAR(50),\n",
    "--     last_updated TIMESTAMP\n",
    "-- );\n",
    "\n",
    "-- INSERT INTO customers VALUES\n",
    "-- (101, 'Alice', 'East', '2025-07-31 13:00:00'),\n",
    "-- (102, 'Bob', 'East', '2025-07-31 13:05:00'),\n",
    "-- (103, 'Charlie', 'East', '2025-07-31 13:10:00'),\n",
    "-- (104, 'Diana', 'East', '2025-07-31 13:15:00'),\n",
    "-- (105, 'Ethan', 'East', '2025-07-31 13:20:00'),\n",
    "-- (106, 'Fiona', 'East', '2025-07-31 13:25:00'),\n",
    "-- (107, 'George', 'West', '2025-07-31 13:30:00'),\n",
    "-- (108, 'Hannah', 'West', '2025-07-31 13:35:00'),\n",
    "-- (109, 'Ian', 'West', '2025-07-31 13:40:00'),\n",
    "-- (110, 'Jane', 'West', '2025-07-31 13:45:00'),\n",
    "-- (111, 'Kevin', 'West', '2025-07-31 13:50:00'),\n",
    "-- (112, 'Laura', 'West', '2025-07-31 13:55:00');\n",
    "\n",
    "\n"
   ]
  }
 ],
 "metadata": {
  "application/vnd.databricks.v1+notebook": {
   "computePreferences": null,
   "dashboards": [],
   "environmentMetadata": null,
   "inputWidgetPreferences": null,
   "language": "sql",
   "notebookMetadata": {
    "pythonIndentUnit": 4,
    "sqlQueryOptions": {
     "applyAutoLimit": true,
     "catalog": "workspace",
     "schema": "sales"
    }
   },
   "notebookName": "DDL.dbquery.ipynb",
   "widgets": {}
  },
  "language_info": {
   "name": "sql"
  }
 },
 "nbformat": 4,
 "nbformat_minor": 0
}
